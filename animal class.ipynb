{
 "cells": [
  {
   "cell_type": "code",
   "execution_count": 5,
   "id": "c59a5456",
   "metadata": {},
   "outputs": [],
   "source": [
    "class Animal:\n",
    "    def __init__(self, name, species):\n",
    "        self.name = name\n",
    "        self.species = species\n",
    "\n",
    "    def display_info(self):\n",
    "        print(f\"Animal Name: {self.name}\")\n",
    "        print(f\"Species: {self.species}\")"
   ]
  },
  {
   "cell_type": "code",
   "execution_count": 6,
   "id": "076e2ab5",
   "metadata": {},
   "outputs": [],
   "source": [
    "class Dog(Animal):\n",
    "    def __init__(self, name):\n",
    "        super().__init__(name, species=\"Dog\")"
   ]
  },
  {
   "cell_type": "code",
   "execution_count": 7,
   "id": "ad898210",
   "metadata": {},
   "outputs": [],
   "source": [
    "class Cat(Animal):\n",
    "    def __init__(self, name):\n",
    "        super().__init__(name, species=\"Cat\")"
   ]
  },
  {
   "cell_type": "code",
   "execution_count": 9,
   "id": "1f0b2971",
   "metadata": {},
   "outputs": [],
   "source": [
    "class Parrot(Animal):\n",
    "    def __init__(self, name):\n",
    "        super().__init__(name, species=\"Parrot\")"
   ]
  },
  {
   "cell_type": "code",
   "execution_count": 18,
   "id": "4688a934",
   "metadata": {},
   "outputs": [],
   "source": [
    "def main():\n",
    "    dog = Dog(\"Bella\")\n",
    "    cat = Cat(\"Kitty\")\n",
    "    parrot = Parrot(\"Paco\")\n",
    "    \n",
    "    dog.display_info()\n",
    "    print() \n",
    "    cat.display_info()\n",
    "    print()  \n",
    "    parrot.display_info()"
   ]
  },
  {
   "cell_type": "code",
   "execution_count": 19,
   "id": "44b27dfa",
   "metadata": {},
   "outputs": [
    {
     "name": "stdout",
     "output_type": "stream",
     "text": [
      "Animal Name: Bella\n",
      "Species: Dog\n",
      "\n",
      "Animal Name: Kitty\n",
      "Species: Cat\n",
      "\n",
      "Animal Name: Paco\n",
      "Species: Parrot\n"
     ]
    }
   ],
   "source": [
    "if __name__ == \"__main__\":\n",
    "    main() "
   ]
  },
  {
   "cell_type": "code",
   "execution_count": null,
   "id": "d39781b9",
   "metadata": {},
   "outputs": [],
   "source": []
  }
 ],
 "metadata": {
  "kernelspec": {
   "display_name": "Python 3 (ipykernel)",
   "language": "python",
   "name": "python3"
  },
  "language_info": {
   "codemirror_mode": {
    "name": "ipython",
    "version": 3
   },
   "file_extension": ".py",
   "mimetype": "text/x-python",
   "name": "python",
   "nbconvert_exporter": "python",
   "pygments_lexer": "ipython3",
   "version": "3.11.4"
  }
 },
 "nbformat": 4,
 "nbformat_minor": 5
}
